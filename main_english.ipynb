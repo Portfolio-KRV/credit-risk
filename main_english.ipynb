{
  "cells": [
    {
      "cell_type": "markdown",
      "metadata": {},
      "source": [
        "\n",
        "# Bayesian networks for risk prediction when granting credits\n"
      ]
    },
    {
      "cell_type": "markdown",
      "metadata": {},
      "source": [
        "\n",
        "## Libraries import\n"
      ]
    },
    {
      "cell_type": "code",
      "execution_count": 1,
      "metadata": {},
      "outputs": [],
      "source": [
        "from pgmpy.estimators import HillClimbSearch, BicScore, MaximumLikelihoodEstimator\n",
        "from pgmpy.inference import VariableElimination\n",
        "from pgmpy.models.BayesianModel import BayesianModel\n",
        "import networkx as nx\n",
        "import pylab as plt\n",
        "import pandas as pd\n",
        "import numpy as np\n"
      ]
    },
    {
      "cell_type": "code",
      "execution_count": 2,
      "metadata": {},
      "outputs": [
        {
          "data": {
            "text/html": [
              "<div>\n",
              "<style scoped>\n",
              "    .dataframe tbody tr th:only-of-type {\n",
              "        vertical-align: middle;\n",
              "    }\n",
              "\n",
              "    .dataframe tbody tr th {\n",
              "        vertical-align: top;\n",
              "    }\n",
              "\n",
              "    .dataframe thead th {\n",
              "        text-align: right;\n",
              "    }\n",
              "</style>\n",
              "<table border=\"1\" class=\"dataframe\">\n",
              "  <thead>\n",
              "    <tr style=\"text-align: right;\">\n",
              "      <th></th>\n",
              "      <th>Evaluacion crediticia historica</th>\n",
              "      <th>Edad</th>\n",
              "      <th>Genero</th>\n",
              "      <th>Evaluacion Sueldo</th>\n",
              "      <th>Residencia</th>\n",
              "      <th>Nivel de ahorro</th>\n",
              "      <th>Monto del credito</th>\n",
              "      <th>Duracion</th>\n",
              "      <th>Proposito</th>\n",
              "      <th>Riesgo</th>\n",
              "    </tr>\n",
              "  </thead>\n",
              "  <tbody>\n",
              "    <tr>\n",
              "      <th>0</th>\n",
              "      <td>4</td>\n",
              "      <td>38 to 75</td>\n",
              "      <td>male</td>\n",
              "      <td>2</td>\n",
              "      <td>own</td>\n",
              "      <td>no account</td>\n",
              "      <td>250 to 1554</td>\n",
              "      <td>4 to 12</td>\n",
              "      <td>radio/TV</td>\n",
              "      <td>good</td>\n",
              "    </tr>\n",
              "    <tr>\n",
              "      <th>1</th>\n",
              "      <td>2</td>\n",
              "      <td>19 to 28</td>\n",
              "      <td>female</td>\n",
              "      <td>2</td>\n",
              "      <td>own</td>\n",
              "      <td>little</td>\n",
              "      <td>250 to 1554</td>\n",
              "      <td>12 to 24</td>\n",
              "      <td>radio/TV</td>\n",
              "      <td>bad</td>\n",
              "    </tr>\n",
              "    <tr>\n",
              "      <th>2</th>\n",
              "      <td>4</td>\n",
              "      <td>28 to 38</td>\n",
              "      <td>male</td>\n",
              "      <td>1</td>\n",
              "      <td>own</td>\n",
              "      <td>little</td>\n",
              "      <td>250 to 1554</td>\n",
              "      <td>4 to 12</td>\n",
              "      <td>education</td>\n",
              "      <td>good</td>\n",
              "    </tr>\n",
              "    <tr>\n",
              "      <th>3</th>\n",
              "      <td>2</td>\n",
              "      <td>28 to 38</td>\n",
              "      <td>male</td>\n",
              "      <td>2</td>\n",
              "      <td>free</td>\n",
              "      <td>little</td>\n",
              "      <td>1554 to 3368</td>\n",
              "      <td>12 to 24</td>\n",
              "      <td>furniture/equipment</td>\n",
              "      <td>good</td>\n",
              "    </tr>\n",
              "    <tr>\n",
              "      <th>4</th>\n",
              "      <td>3</td>\n",
              "      <td>28 to 38</td>\n",
              "      <td>male</td>\n",
              "      <td>2</td>\n",
              "      <td>free</td>\n",
              "      <td>little</td>\n",
              "      <td>250 to 1554</td>\n",
              "      <td>4 to 12</td>\n",
              "      <td>car</td>\n",
              "      <td>bad</td>\n",
              "    </tr>\n",
              "  </tbody>\n",
              "</table>\n",
              "</div>"
            ],
            "text/plain": [
              "   Evaluacion crediticia historica      Edad  Genero  Evaluacion Sueldo  \\\n",
              "0                                4  38 to 75    male                  2   \n",
              "1                                2  19 to 28  female                  2   \n",
              "2                                4  28 to 38    male                  1   \n",
              "3                                2  28 to 38    male                  2   \n",
              "4                                3  28 to 38    male                  2   \n",
              "\n",
              "  Residencia Nivel de ahorro Monto del credito  Duracion            Proposito  \\\n",
              "0        own      no account       250 to 1554   4 to 12             radio/TV   \n",
              "1        own          little       250 to 1554  12 to 24             radio/TV   \n",
              "2        own          little       250 to 1554   4 to 12            education   \n",
              "3       free          little      1554 to 3368  12 to 24  furniture/equipment   \n",
              "4       free          little       250 to 1554   4 to 12                  car   \n",
              "\n",
              "  Riesgo  \n",
              "0   good  \n",
              "1    bad  \n",
              "2   good  \n",
              "3   good  \n",
              "4    bad  "
            ]
          },
          "execution_count": 2,
          "metadata": {},
          "output_type": "execute_result"
        }
      ],
      "source": [
        "# The dataset is loaded excluding the first indexed column\n",
        "\n",
        "data = pd.read_csv(\"Riesgo_Credito.csv\", usecols=range(1, 11))\n",
        "data.head()\n"
      ]
    },
    {
      "cell_type": "markdown",
      "metadata": {},
      "source": [
        "\n",
        "## 1.1 Hill-Climbing network structure learning method\n"
      ]
    },
    {
      "cell_type": "markdown",
      "metadata": {},
      "source": [
        "\n",
        "On many occasions we do not have the expert knowledge of the interrelationships and dependencies between a certain set of variables that represent a specific context, however, there is data that describes different possible states of a system, through these data we can learn a structure Bayesian network appropriate to the system. Here is one of the most used methods:\n",
        "\n",
        " **Learning of Hill-Climbing network structures:** Hill-Climbing is a local search algorithm that seeks to maximize an objective function by modifying the current state of a solution or moving through different previously generated solutions. In structure learning, the objective function is a **Score** of how well a certain Bayesian network structure fits a dataset. The most used scores are: Akaike&#39;s information criterion ( **AIC** ), Bayesian information criterion ( **BIC** ) and Bayesian Dirichlet equivalence score ( **BDe** ). Once the Hill-Climbing optimization criterion is selected, it explores and exploits the different possible solutions seeking to maximize the score, the movement through the solutions can be done by changing adding edges between two variables, eliminating edges, changing the direction of edges, etc. With this method it is not guaranteed to find the global optimum, however, it is a realistic approach, since, the problem of finding the optimal structure is **NP-HARD** , the time needed to solve the problem grows exponentially.\n"
      ]
    },
    {
      "cell_type": "markdown",
      "metadata": {},
      "source": [
        "\n",
        "## 1.2 BICScore Method and Network Structure\n"
      ]
    },
    {
      "cell_type": "code",
      "execution_count": 3,
      "metadata": {},
      "outputs": [
        {
          "name": "stderr",
          "output_type": "stream",
          "text": [
            "  0%|                                                                          | 12/1000000 [00:02<52:55:52,  5.25it/s]\n"
          ]
        }
      ],
      "source": [
        "# We load the BICscore scoring method\n",
        "score_method = BicScore(data=data)\n",
        "# We fit the Hill-Climbing algorithm to our data and define the type of score to use\n",
        "hc = HillClimbSearch(data=data, scoring_method=score_method)\n",
        "# We estimate the appropriate network structure for the data (Hill-Climbing does not ensure finding the optimal structure)\n",
        "model = hc.estimate()\n"
      ]
    },
    {
      "cell_type": "code",
      "execution_count": 4,
      "metadata": {},
      "outputs": [
        {
          "data": {
            "image/png": "[encoded data removed]",
            "text/plain": [
              "<Figure size 720x720 with 1 Axes>"
            ]
          },
          "metadata": {},
          "output_type": "display_data"
        }
      ],
      "source": [
        "plt.figure(figsize=(10, 10))\n",
        "# We define the appropriate positions of the structure for easy visualization (planar layout was used as an initial base)\n",
        "pos = {\n",
        "    \"Evaluacion crediticia historica\": [4, 1],\n",
        "    \"Edad\": [3, 6],\n",
        "    \"Genero\": [4, 4],\n",
        "    \"Evaluacion Sueldo\": [2, 2],\n",
        "    \"Residencia\": [3, 5],\n",
        "    \"Nivel de ahorro\": [3, -1],\n",
        "    \"Monto del credito\": [3, 3],\n",
        "    \"Duracion\": [4, 2],\n",
        "    \"Proposito\": [1, 2],\n",
        "    \"Riesgo\": [3, 0],\n",
        "}\n",
        "# We draw the structure\n",
        "nx.draw(\n",
        "    model,\n",
        "    pos,\n",
        "    with_labels=True,\n",
        "    font_weight=\"bold\",\n",
        "    node_size=5000,\n",
        "    node_color=\"#90e2ec\",\n",
        ")\n",
        "plt.show()\n"
      ]
    },
    {
      "cell_type": "markdown",
      "metadata": {},
      "source": [
        "\n",
        "## 1.3 Comments, improvements and creation of the network\n",
        "\n",
        " **Comments:** All the connections found make sense in the context of the data, however, some directions of causality are inverted, for example, it is justifiable that the amount of the credit is related to the purpose, salary evaluation, duration and residence, however, in a real context, it is the purpose and the salary evaluation that cause the amount of the credit; the same happens with the level of savings and risk, the level of savings causes a high or low risk. Probably the most debatable connections are Age-Gender and Residence-Gender, the first could be explained by biological differences and social constructions, for example, someone of the female sex could postpone or advance some life projects due to dedicating herself to the upbringing of her children ( by this I was referring to social construction, this has been changing in recent times) which would lead to credits being concentrated in certain age ranges. In the Residence-Gender connection (it should be Gender-Residence) something similar happens, it could be happening that in marriages most of the time it is the male person who remains as the owner of the home (it has also been changing).\n",
        "\n",
        " Below are some assumptions from the context of the data to justify improvements.\n",
        "\n",
        " **Assumptions (to make the improvements):**\n",
        "1.  The banking executive evaluates the level of savings of the person who requires the credit before evaluating the risk.\n",
        "1.  The higher the person&#39;s salary, they can access a higher credit amount.\n",
        "1.  In a married life, men are usually the owners of the residences (with current data this could be incorrect).\n",
        "1.  The purpose of the project will determine the amount of the credit, each project has a required budget associated with it, for example, buying a vehicle will have a lower amount associated with it than buying a house.\n",
        "1.  The banking executive is based on the historical credit evaluation to determine the duration of a credit, the better the evaluation, the more confidence there is in the person, so a higher time risk can be assumed.\n",
        "\n",
        " **Improvements:**\n",
        "1.  The level of savings should be cause of Risk and not evidence.\n",
        "1.  Salary evaluation should be causal of credit amount and not evidence.\n",
        "1.  Gender should be cause of residence and not evidence.\n",
        "1.  Purpose should be causal of credit amount and not evidence.\n",
        "1.  Historical credit evaluation should be causal of duration and not evidence.\n"
      ]
    },
    {
      "cell_type": "code",
      "execution_count": 5,
      "metadata": {},
      "outputs": [
        {
          "data": {
            "text/plain": [
              "OutEdgeView([('Evaluacion crediticia historica', 'Riesgo'), ('Evaluacion crediticia historica', 'Duracion'), ('Edad', 'Residencia'), ('Edad', 'Genero'), ('Genero', 'Residencia'), ('Evaluacion Sueldo', 'Monto del credito'), ('Residencia', 'Monto del credito'), ('Nivel de ahorro', 'Riesgo'), ('Monto del credito', 'Duracion'), ('Monto del credito', 'Riesgo'), ('Duracion', 'Riesgo'), ('Proposito', 'Monto del credito')])"
            ]
          },
          "execution_count": 5,
          "metadata": {},
          "output_type": "execute_result"
        }
      ],
      "source": [
        "improve_model = model.copy()\n",
        "# Suggested improvements are applied based on the assumptions\n",
        "improve_model.remove_edge(\"Riesgo\", \"Nivel de ahorro\")\n",
        "improve_model.add_edge(\"Nivel de ahorro\", \"Riesgo\")\n",
        "improve_model.remove_edge(\"Monto del credito\", \"Evaluacion Sueldo\")\n",
        "improve_model.add_edge(\"Evaluacion Sueldo\", \"Monto del credito\")\n",
        "improve_model.remove_edge(\"Residencia\", \"Genero\")\n",
        "improve_model.add_edge(\"Genero\", \"Residencia\")\n",
        "improve_model.remove_edge(\"Monto del credito\", \"Proposito\")\n",
        "improve_model.add_edge(\"Proposito\", \"Monto del credito\")\n",
        "improve_model.remove_edge(\"Duracion\", \"Evaluacion crediticia historica\")\n",
        "improve_model.add_edge(\"Evaluacion crediticia historica\", \"Duracion\")\n",
        "improve_model.edges()\n"
      ]
    },
    {
      "cell_type": "code",
      "execution_count": 6,
      "metadata": {},
      "outputs": [
        {
          "data": {
            "image/png": "[encoded data removed]",
            "text/plain": [
              "<Figure size 1080x720 with 1 Axes>"
            ]
          },
          "metadata": {},
          "output_type": "display_data"
        }
      ],
      "source": [
        "plt.figure(figsize=(15, 10))\n",
        "# Se crea la red bayesiana en base a la estructura propuesta\n",
        "bayesian_model = BayesianModel(improve_model.edges())\n",
        "pos = {\n",
        "    \"Evaluacion crediticia historica\": [4, 3],\n",
        "    \"Edad\": [3, 7],\n",
        "    \"Genero\": [4, 6],\n",
        "    \"Evaluacion Sueldo\": [2, 5],\n",
        "    \"Residencia\": [3, 5],\n",
        "    \"Nivel de ahorro\": [2, 1],\n",
        "    \"Monto del credito\": [3, 3],\n",
        "    \"Duracion\": [4, 1],\n",
        "    \"Proposito\": [1, 5],\n",
        "    \"Riesgo\": [3, 0],\n",
        "}\n",
        "nx.draw(\n",
        "    bayesian_model,\n",
        "    pos,\n",
        "    with_labels=True,\n",
        "    font_weight=\"bold\",\n",
        "    node_size=5000,\n",
        "    node_color=\"#90e2ec\",\n",
        ")\n",
        "plt.show()\n"
      ]
    },
    {
      "cell_type": "markdown",
      "metadata": {},
      "source": [
        "\n",
        "## 1.4 Parameter learning of each CPD with maximum likelihood method\n"
      ]
    },
    {
      "cell_type": "code",
      "execution_count": 7,
      "metadata": {},
      "outputs": [
        {
          "data": {
            "text/plain": [
              "True"
            ]
          },
          "execution_count": 7,
          "metadata": {},
          "output_type": "execute_result"
        }
      ],
      "source": [
        "# We fit all the CPDs of the network with the maximum likelihood estimation method from the data\n",
        "bayesian_model.fit(data=data, estimator=MaximumLikelihoodEstimator)\n",
        "# We check that the model has no errors\n",
        "bayesian_model.check_model()\n"
      ]
    },
    {
      "cell_type": "markdown",
      "metadata": {},
      "source": [
        "\n",
        "### Independences in Risk variable\n",
        "\n",
        "####  Local Independences: Risk ⟂ non-descendants(Risk) | Parents(Risk)\n"
      ]
    },
    {
      "cell_type": "code",
      "execution_count": 8,
      "metadata": {},
      "outputs": [
        {
          "data": {
            "text/plain": [
              "(Riesgo ⟂ Edad, Genero, Evaluacion Sueldo, Residencia, Proposito | Nivel de ahorro, Evaluacion crediticia historica, Monto del credito, Duracion)"
            ]
          },
          "execution_count": 8,
          "metadata": {},
          "output_type": "execute_result"
        }
      ],
      "source": [
        "# We get local independences\n",
        "bayesian_model.local_independencies(\"Riesgo\")\n"
      ]
    },
    {
      "cell_type": "markdown",
      "metadata": {},
      "source": [
        "\n",
        "#### Global Markovian Independences: Risk ⟂ Y | Z : d-sep(Risk;Y|Z), where X and Y are the rest of the variables in the credit risk assessment.\n"
      ]
    },
    {
      "cell_type": "code",
      "execution_count": 9,
      "metadata": {},
      "outputs": [
        {
          "name": "stdout",
          "output_type": "stream",
          "text": [
            "(Riesgo ⟂ Edad, Genero, Evaluacion Sueldo, Residencia, Proposito | Monto del credito)\n",
            "(Riesgo ⟂ Edad, Genero | Residencia)\n",
            "(Riesgo ⟂ Proposito, Genero, Evaluacion Sueldo, Residencia | Edad, Monto del credito)\n",
            "(Riesgo ⟂ Genero | Edad, Residencia)\n",
            "(Riesgo ⟂ Edad, Proposito, Evaluacion Sueldo, Residencia | Monto del credito, Genero)\n",
            "(Riesgo ⟂ Edad, Proposito, Genero, Residencia | Monto del credito, Evaluacion Sueldo)\n",
            "(Riesgo ⟂ Edad, Genero, Evaluacion Sueldo, Proposito | Monto del credito, Residencia)\n",
            "(Riesgo ⟂ Edad, Genero, Evaluacion Sueldo, Residencia, Proposito | Monto del credito, Duracion)\n",
            "(Riesgo ⟂ Edad, Genero, Evaluacion Sueldo, Residencia, Proposito | Monto del credito, Nivel de ahorro)\n",
            "(Riesgo ⟂ Edad, Genero, Evaluacion Sueldo, Residencia, Proposito | Monto del credito, Evaluacion crediticia historica)\n",
            "(Riesgo ⟂ Edad, Genero, Evaluacion Sueldo, Residencia | Proposito, Monto del credito)\n",
            "(Riesgo ⟂ Edad | Genero, Residencia)\n",
            "(Riesgo ⟂ Edad, Genero | Evaluacion Sueldo, Residencia)\n",
            "(Riesgo ⟂ Edad, Genero | Duracion, Residencia)\n",
            "(Riesgo ⟂ Edad, Genero | Nivel de ahorro, Residencia)\n",
            "(Riesgo ⟂ Edad, Genero | Evaluacion crediticia historica, Residencia)\n",
            "(Riesgo ⟂ Edad, Genero | Proposito, Residencia)\n",
            "(Riesgo ⟂ Proposito, Evaluacion Sueldo, Residencia | Edad, Monto del credito, Genero)\n",
            "(Riesgo ⟂ Proposito, Genero, Residencia | Edad, Monto del credito, Evaluacion Sueldo)\n",
            "(Riesgo ⟂ Proposito, Genero, Evaluacion Sueldo | Edad, Monto del credito, Residencia)\n",
            "(Riesgo ⟂ Proposito, Genero, Evaluacion Sueldo, Residencia | Edad, Monto del credito, Duracion)\n",
            "(Riesgo ⟂ Proposito, Genero, Evaluacion Sueldo, Residencia | Edad, Monto del credito, Nivel de ahorro)\n",
            "(Riesgo ⟂ Proposito, Genero, Evaluacion Sueldo, Residencia | Edad, Monto del credito, Evaluacion crediticia historica)\n",
            "(Riesgo ⟂ Genero, Evaluacion Sueldo, Residencia | Edad, Monto del credito, Proposito)\n",
            "(Riesgo ⟂ Genero | Edad, Evaluacion Sueldo, Residencia)\n",
            "(Riesgo ⟂ Genero | Edad, Duracion, Residencia)\n",
            "(Riesgo ⟂ Genero | Edad, Nivel de ahorro, Residencia)\n",
            "(Riesgo ⟂ Genero | Edad, Evaluacion crediticia historica, Residencia)\n",
            "(Riesgo ⟂ Genero | Edad, Proposito, Residencia)\n",
            "(Riesgo ⟂ Edad, Proposito, Residencia | Monto del credito, Genero, Evaluacion Sueldo)\n",
            "(Riesgo ⟂ Edad, Evaluacion Sueldo, Proposito | Monto del credito, Genero, Residencia)\n",
            "(Riesgo ⟂ Edad, Proposito, Evaluacion Sueldo, Residencia | Monto del credito, Genero, Duracion)\n",
            "(Riesgo ⟂ Edad, Proposito, Evaluacion Sueldo, Residencia | Monto del credito, Nivel de ahorro, Genero)\n",
            "(Riesgo ⟂ Edad, Proposito, Evaluacion Sueldo, Residencia | Monto del credito, Evaluacion crediticia historica, Genero)\n",
            "(Riesgo ⟂ Edad, Evaluacion Sueldo, Residencia | Proposito, Monto del credito, Genero)\n",
            "(Riesgo ⟂ Edad, Genero, Proposito | Monto del credito, Evaluacion Sueldo, Residencia)\n",
            "(Riesgo ⟂ Edad, Proposito, Genero, Residencia | Monto del credito, Evaluacion Sueldo, Duracion)\n",
            "(Riesgo ⟂ Edad, Proposito, Genero, Residencia | Monto del credito, Nivel de ahorro, Evaluacion Sueldo)\n",
            "(Riesgo ⟂ Edad, Proposito, Genero, Residencia | Monto del credito, Evaluacion crediticia historica, Evaluacion Sueldo)\n",
            "(Riesgo ⟂ Edad, Genero, Residencia | Proposito, Monto del credito, Evaluacion Sueldo)\n",
            "(Riesgo ⟂ Edad, Genero, Evaluacion Sueldo, Proposito | Monto del credito, Duracion, Residencia)\n",
            "(Riesgo ⟂ Edad, Genero, Evaluacion Sueldo, Proposito | Monto del credito, Nivel de ahorro, Residencia)\n",
            "(Riesgo ⟂ Edad, Genero, Evaluacion Sueldo, Proposito | Monto del credito, Evaluacion crediticia historica, Residencia)\n",
            "(Riesgo ⟂ Edad, Genero, Evaluacion Sueldo | Proposito, Monto del credito, Residencia)\n",
            "(Riesgo ⟂ Edad, Genero, Evaluacion Sueldo, Residencia, Proposito | Monto del credito, Nivel de ahorro, Duracion)\n",
            "(Riesgo ⟂ Edad, Genero, Evaluacion Sueldo, Residencia, Proposito | Monto del credito, Evaluacion crediticia historica, Duracion)\n",
            "(Riesgo ⟂ Edad, Genero, Evaluacion Sueldo, Residencia | Proposito, Monto del credito, Duracion)\n",
            "(Riesgo ⟂ Edad, Genero, Evaluacion Sueldo, Residencia, Proposito | Monto del credito, Nivel de ahorro, Evaluacion crediticia historica)\n",
            "(Riesgo ⟂ Edad, Genero, Evaluacion Sueldo, Residencia | Proposito, Monto del credito, Nivel de ahorro)\n",
            "(Riesgo ⟂ Edad, Genero, Evaluacion Sueldo, Residencia | Proposito, Monto del credito, Evaluacion crediticia historica)\n",
            "(Riesgo ⟂ Edad | Genero, Evaluacion Sueldo, Residencia)\n",
            "(Riesgo ⟂ Edad | Genero, Duracion, Residencia)\n",
            "(Riesgo ⟂ Edad | Nivel de ahorro, Genero, Residencia)\n",
            "(Riesgo ⟂ Edad | Evaluacion crediticia historica, Genero, Residencia)\n",
            "(Riesgo ⟂ Edad | Proposito, Genero, Residencia)\n",
            "(Riesgo ⟂ Edad, Genero | Duracion, Evaluacion Sueldo, Residencia)\n",
            "(Riesgo ⟂ Edad, Genero | Nivel de ahorro, Evaluacion Sueldo, Residencia)\n",
            "(Riesgo ⟂ Edad, Genero | Evaluacion crediticia historica, Evaluacion Sueldo, Residencia)\n",
            "(Riesgo ⟂ Edad, Genero | Proposito, Evaluacion Sueldo, Residencia)\n",
            "(Riesgo ⟂ Edad, Genero | Nivel de ahorro, Duracion, Residencia)\n",
            "(Riesgo ⟂ Edad, Genero | Evaluacion crediticia historica, Duracion, Residencia)\n",
            "(Riesgo ⟂ Edad, Genero | Proposito, Duracion, Residencia)\n",
            "(Riesgo ⟂ Edad, Genero | Nivel de ahorro, Evaluacion crediticia historica, Residencia)\n",
            "(Riesgo ⟂ Edad, Genero | Proposito, Nivel de ahorro, Residencia)\n",
            "(Riesgo ⟂ Edad, Genero | Proposito, Evaluacion crediticia historica, Residencia)\n",
            "(Riesgo ⟂ Proposito, Residencia | Edad, Monto del credito, Genero, Evaluacion Sueldo)\n",
            "(Riesgo ⟂ Proposito, Evaluacion Sueldo | Edad, Monto del credito, Genero, Residencia)\n",
            "(Riesgo ⟂ Proposito, Evaluacion Sueldo, Residencia | Edad, Monto del credito, Genero, Duracion)\n",
            "(Riesgo ⟂ Proposito, Evaluacion Sueldo, Residencia | Edad, Monto del credito, Nivel de ahorro, Genero)\n",
            "(Riesgo ⟂ Proposito, Evaluacion Sueldo, Residencia | Edad, Monto del credito, Evaluacion crediticia historica, Genero)\n",
            "(Riesgo ⟂ Evaluacion Sueldo, Residencia | Edad, Monto del credito, Genero, Proposito)\n",
            "(Riesgo ⟂ Proposito, Genero | Edad, Monto del credito, Evaluacion Sueldo, Residencia)\n",
            "(Riesgo ⟂ Proposito, Genero, Residencia | Edad, Monto del credito, Evaluacion Sueldo, Duracion)\n",
            "(Riesgo ⟂ Proposito, Genero, Residencia | Edad, Monto del credito, Nivel de ahorro, Evaluacion Sueldo)\n",
            "(Riesgo ⟂ Proposito, Genero, Residencia | Edad, Monto del credito, Evaluacion crediticia historica, Evaluacion Sueldo)\n",
            "(Riesgo ⟂ Genero, Residencia | Edad, Monto del credito, Evaluacion Sueldo, Proposito)\n",
            "(Riesgo ⟂ Proposito, Genero, Evaluacion Sueldo | Edad, Monto del credito, Duracion, Residencia)\n",
            "(Riesgo ⟂ Proposito, Genero, Evaluacion Sueldo | Edad, Monto del credito, Nivel de ahorro, Residencia)\n",
            "(Riesgo ⟂ Proposito, Genero, Evaluacion Sueldo | Edad, Monto del credito, Evaluacion crediticia historica, Residencia)\n",
            "(Riesgo ⟂ Genero, Evaluacion Sueldo | Edad, Monto del credito, Proposito, Residencia)\n",
            "(Riesgo ⟂ Proposito, Genero, Evaluacion Sueldo, Residencia | Edad, Monto del credito, Nivel de ahorro, Duracion)\n",
            "(Riesgo ⟂ Proposito, Genero, Evaluacion Sueldo, Residencia | Edad, Monto del credito, Evaluacion crediticia historica, Duracion)\n",
            "(Riesgo ⟂ Genero, Evaluacion Sueldo, Residencia | Edad, Monto del credito, Proposito, Duracion)\n",
            "(Riesgo ⟂ Proposito, Genero, Evaluacion Sueldo, Residencia | Edad, Monto del credito, Nivel de ahorro, Evaluacion crediticia historica)\n",
            "(Riesgo ⟂ Genero, Evaluacion Sueldo, Residencia | Edad, Monto del credito, Nivel de ahorro, Proposito)\n",
            "(Riesgo ⟂ Genero, Evaluacion Sueldo, Residencia | Edad, Monto del credito, Evaluacion crediticia historica, Proposito)\n",
            "(Riesgo ⟂ Genero | Edad, Duracion, Evaluacion Sueldo, Residencia)\n",
            "(Riesgo ⟂ Genero | Edad, Nivel de ahorro, Evaluacion Sueldo, Residencia)\n",
            "(Riesgo ⟂ Genero | Edad, Evaluacion crediticia historica, Evaluacion Sueldo, Residencia)\n",
            "(Riesgo ⟂ Genero | Edad, Proposito, Evaluacion Sueldo, Residencia)\n",
            "(Riesgo ⟂ Genero | Edad, Nivel de ahorro, Duracion, Residencia)\n",
            "(Riesgo ⟂ Genero | Edad, Evaluacion crediticia historica, Duracion, Residencia)\n",
            "(Riesgo ⟂ Genero | Edad, Proposito, Duracion, Residencia)\n",
            "(Riesgo ⟂ Genero | Edad, Nivel de ahorro, Evaluacion crediticia historica, Residencia)\n",
            "(Riesgo ⟂ Genero | Edad, Nivel de ahorro, Proposito, Residencia)\n",
            "(Riesgo ⟂ Genero | Edad, Proposito, Evaluacion crediticia historica, Residencia)\n",
            "(Riesgo ⟂ Edad, Proposito | Monto del credito, Genero, Evaluacion Sueldo, Residencia)\n",
            "(Riesgo ⟂ Edad, Proposito, Residencia | Monto del credito, Genero, Evaluacion Sueldo, Duracion)\n",
            "(Riesgo ⟂ Edad, Proposito, Residencia | Monto del credito, Nivel de ahorro, Genero, Evaluacion Sueldo)\n",
            "(Riesgo ⟂ Edad, Proposito, Residencia | Monto del credito, Evaluacion crediticia historica, Genero, Evaluacion Sueldo)\n",
            "(Riesgo ⟂ Edad, Residencia | Proposito, Monto del credito, Genero, Evaluacion Sueldo)\n",
            "(Riesgo ⟂ Edad, Evaluacion Sueldo, Proposito | Monto del credito, Genero, Duracion, Residencia)\n",
            "(Riesgo ⟂ Edad, Evaluacion Sueldo, Proposito | Monto del credito, Nivel de ahorro, Genero, Residencia)\n",
            "(Riesgo ⟂ Edad, Evaluacion Sueldo, Proposito | Monto del credito, Evaluacion crediticia historica, Genero, Residencia)\n",
            "(Riesgo ⟂ Edad, Evaluacion Sueldo | Proposito, Monto del credito, Genero, Residencia)\n",
            "(Riesgo ⟂ Edad, Proposito, Evaluacion Sueldo, Residencia | Monto del credito, Nivel de ahorro, Genero, Duracion)\n",
            "(Riesgo ⟂ Edad, Proposito, Evaluacion Sueldo, Residencia | Monto del credito, Evaluacion crediticia historica, Genero, Duracion)\n",
            "(Riesgo ⟂ Edad, Evaluacion Sueldo, Residencia | Proposito, Monto del credito, Genero, Duracion)\n",
            "(Riesgo ⟂ Edad, Proposito, Evaluacion Sueldo, Residencia | Monto del credito, Evaluacion crediticia historica, Nivel de ahorro, Genero)\n",
            "(Riesgo ⟂ Edad, Evaluacion Sueldo, Residencia | Proposito, Monto del credito, Nivel de ahorro, Genero)\n",
            "(Riesgo ⟂ Edad, Evaluacion Sueldo, Residencia | Proposito, Monto del credito, Evaluacion crediticia historica, Genero)\n",
            "(Riesgo ⟂ Edad, Genero, Proposito | Duracion, Monto del credito, Evaluacion Sueldo, Residencia)\n",
            "(Riesgo ⟂ Edad, Genero, Proposito | Monto del credito, Nivel de ahorro, Evaluacion Sueldo, Residencia)\n",
            "(Riesgo ⟂ Edad, Genero, Proposito | Monto del credito, Evaluacion crediticia historica, Evaluacion Sueldo, Residencia)\n",
            "(Riesgo ⟂ Edad, Genero | Proposito, Monto del credito, Evaluacion Sueldo, Residencia)\n",
            "(Riesgo ⟂ Edad, Proposito, Genero, Residencia | Monto del credito, Nivel de ahorro, Evaluacion Sueldo, Duracion)\n",
            "(Riesgo ⟂ Edad, Proposito, Genero, Residencia | Monto del credito, Evaluacion crediticia historica, Evaluacion Sueldo, Duracion)\n",
            "(Riesgo ⟂ Edad, Genero, Residencia | Proposito, Monto del credito, Evaluacion Sueldo, Duracion)\n",
            "(Riesgo ⟂ Edad, Proposito, Genero, Residencia | Monto del credito, Nivel de ahorro, Evaluacion crediticia historica, Evaluacion Sueldo)\n",
            "(Riesgo ⟂ Edad, Genero, Residencia | Proposito, Monto del credito, Nivel de ahorro, Evaluacion Sueldo)\n",
            "(Riesgo ⟂ Edad, Genero, Residencia | Proposito, Monto del credito, Evaluacion crediticia historica, Evaluacion Sueldo)\n",
            "(Riesgo ⟂ Edad, Genero, Evaluacion Sueldo, Proposito | Monto del credito, Nivel de ahorro, Duracion, Residencia)\n",
            "(Riesgo ⟂ Edad, Genero, Evaluacion Sueldo, Proposito | Monto del credito, Evaluacion crediticia historica, Duracion, Residencia)\n",
            "(Riesgo ⟂ Edad, Genero, Evaluacion Sueldo | Proposito, Monto del credito, Duracion, Residencia)\n",
            "(Riesgo ⟂ Edad, Genero, Evaluacion Sueldo, Proposito | Monto del credito, Nivel de ahorro, Evaluacion crediticia historica, Residencia)\n",
            "(Riesgo ⟂ Edad, Genero, Evaluacion Sueldo | Proposito, Monto del credito, Nivel de ahorro, Residencia)\n",
            "(Riesgo ⟂ Edad, Genero, Evaluacion Sueldo | Proposito, Monto del credito, Evaluacion crediticia historica, Residencia)\n",
            "(Riesgo ⟂ Edad, Genero, Evaluacion Sueldo, Residencia, Proposito | Monto del credito, Nivel de ahorro, Evaluacion crediticia historica, Duracion)\n",
            "(Riesgo ⟂ Edad, Genero, Evaluacion Sueldo, Residencia | Proposito, Monto del credito, Nivel de ahorro, Duracion)\n",
            "(Riesgo ⟂ Edad, Genero, Evaluacion Sueldo, Residencia | Proposito, Monto del credito, Evaluacion crediticia historica, Duracion)\n",
            "(Riesgo ⟂ Edad, Genero, Evaluacion Sueldo, Residencia | Proposito, Monto del credito, Nivel de ahorro, Evaluacion crediticia historica)\n",
            "(Riesgo ⟂ Edad | Duracion, Genero, Evaluacion Sueldo, Residencia)\n",
            "(Riesgo ⟂ Edad | Nivel de ahorro, Genero, Evaluacion Sueldo, Residencia)\n",
            "(Riesgo ⟂ Edad | Evaluacion crediticia historica, Genero, Evaluacion Sueldo, Residencia)\n",
            "(Riesgo ⟂ Edad | Proposito, Genero, Evaluacion Sueldo, Residencia)\n",
            "(Riesgo ⟂ Edad | Nivel de ahorro, Genero, Duracion, Residencia)\n",
            "(Riesgo ⟂ Edad | Evaluacion crediticia historica, Genero, Duracion, Residencia)\n",
            "(Riesgo ⟂ Edad | Proposito, Genero, Duracion, Residencia)\n",
            "(Riesgo ⟂ Edad | Nivel de ahorro, Evaluacion crediticia historica, Genero, Residencia)\n",
            "(Riesgo ⟂ Edad | Proposito, Nivel de ahorro, Genero, Residencia)\n",
            "(Riesgo ⟂ Edad | Proposito, Evaluacion crediticia historica, Genero, Residencia)\n",
            "(Riesgo ⟂ Edad, Genero | Duracion, Nivel de ahorro, Evaluacion Sueldo, Residencia)\n",
            "(Riesgo ⟂ Edad, Genero | Duracion, Evaluacion crediticia historica, Evaluacion Sueldo, Residencia)\n",
            "(Riesgo ⟂ Edad, Genero | Duracion, Proposito, Evaluacion Sueldo, Residencia)\n",
            "(Riesgo ⟂ Edad, Genero | Nivel de ahorro, Evaluacion crediticia historica, Evaluacion Sueldo, Residencia)\n",
            "(Riesgo ⟂ Edad, Genero | Proposito, Nivel de ahorro, Evaluacion Sueldo, Residencia)\n",
            "(Riesgo ⟂ Edad, Genero | Proposito, Evaluacion crediticia historica, Evaluacion Sueldo, Residencia)\n",
            "(Riesgo ⟂ Edad, Genero | Nivel de ahorro, Evaluacion crediticia historica, Duracion, Residencia)\n",
            "(Riesgo ⟂ Edad, Genero | Proposito, Nivel de ahorro, Duracion, Residencia)\n",
            "(Riesgo ⟂ Edad, Genero | Proposito, Evaluacion crediticia historica, Duracion, Residencia)\n",
            "(Riesgo ⟂ Edad, Genero | Proposito, Nivel de ahorro, Evaluacion crediticia historica, Residencia)\n",
            "(Riesgo ⟂ Proposito | Edad, Monto del credito, Genero, Evaluacion Sueldo, Residencia)\n",
            "(Riesgo ⟂ Proposito, Residencia | Edad, Monto del credito, Genero, Evaluacion Sueldo, Duracion)\n",
            "(Riesgo ⟂ Proposito, Residencia | Edad, Monto del credito, Genero, Evaluacion Sueldo, Nivel de ahorro)\n",
            "(Riesgo ⟂ Proposito, Residencia | Edad, Monto del credito, Genero, Evaluacion Sueldo, Evaluacion crediticia historica)\n",
            "(Riesgo ⟂ Residencia | Edad, Monto del credito, Genero, Evaluacion Sueldo, Proposito)\n",
            "(Riesgo ⟂ Proposito, Evaluacion Sueldo | Edad, Monto del credito, Genero, Duracion, Residencia)\n",
            "(Riesgo ⟂ Proposito, Evaluacion Sueldo | Edad, Monto del credito, Genero, Residencia, Nivel de ahorro)\n",
            "(Riesgo ⟂ Proposito, Evaluacion Sueldo | Edad, Monto del credito, Genero, Residencia, Evaluacion crediticia historica)\n",
            "(Riesgo ⟂ Evaluacion Sueldo | Edad, Monto del credito, Genero, Residencia, Proposito)\n",
            "(Riesgo ⟂ Proposito, Evaluacion Sueldo, Residencia | Edad, Monto del credito, Genero, Duracion, Nivel de ahorro)\n",
            "(Riesgo ⟂ Proposito, Evaluacion Sueldo, Residencia | Edad, Monto del credito, Genero, Duracion, Evaluacion crediticia historica)\n",
            "(Riesgo ⟂ Evaluacion Sueldo, Residencia | Edad, Monto del credito, Genero, Duracion, Proposito)\n",
            "(Riesgo ⟂ Proposito, Evaluacion Sueldo, Residencia | Edad, Monto del credito, Genero, Nivel de ahorro, Evaluacion crediticia historica)\n",
            "(Riesgo ⟂ Evaluacion Sueldo, Residencia | Edad, Monto del credito, Genero, Nivel de ahorro, Proposito)\n",
            "(Riesgo ⟂ Evaluacion Sueldo, Residencia | Edad, Monto del credito, Genero, Evaluacion crediticia historica, Proposito)\n",
            "(Riesgo ⟂ Proposito, Genero | Edad, Monto del credito, Evaluacion Sueldo, Duracion, Residencia)\n",
            "(Riesgo ⟂ Proposito, Genero | Edad, Monto del credito, Evaluacion Sueldo, Residencia, Nivel de ahorro)\n",
            "(Riesgo ⟂ Proposito, Genero | Edad, Monto del credito, Evaluacion Sueldo, Residencia, Evaluacion crediticia historica)\n",
            "(Riesgo ⟂ Genero | Edad, Monto del credito, Evaluacion Sueldo, Residencia, Proposito)\n",
            "(Riesgo ⟂ Proposito, Genero, Residencia | Edad, Monto del credito, Evaluacion Sueldo, Duracion, Nivel de ahorro)\n",
            "(Riesgo ⟂ Proposito, Genero, Residencia | Edad, Monto del credito, Evaluacion Sueldo, Duracion, Evaluacion crediticia historica)\n",
            "(Riesgo ⟂ Genero, Residencia | Edad, Monto del credito, Evaluacion Sueldo, Duracion, Proposito)\n",
            "(Riesgo ⟂ Proposito, Genero, Residencia | Edad, Monto del credito, Evaluacion Sueldo, Nivel de ahorro, Evaluacion crediticia historica)\n",
            "(Riesgo ⟂ Genero, Residencia | Edad, Monto del credito, Evaluacion Sueldo, Nivel de ahorro, Proposito)\n",
            "(Riesgo ⟂ Genero, Residencia | Edad, Monto del credito, Evaluacion Sueldo, Evaluacion crediticia historica, Proposito)\n",
            "(Riesgo ⟂ Proposito, Genero, Evaluacion Sueldo | Edad, Monto del credito, Duracion, Residencia, Nivel de ahorro)\n",
            "(Riesgo ⟂ Proposito, Genero, Evaluacion Sueldo | Edad, Monto del credito, Duracion, Residencia, Evaluacion crediticia historica)\n",
            "(Riesgo ⟂ Genero, Evaluacion Sueldo | Edad, Monto del credito, Duracion, Residencia, Proposito)\n",
            "(Riesgo ⟂ Proposito, Genero, Evaluacion Sueldo | Edad, Monto del credito, Residencia, Nivel de ahorro, Evaluacion crediticia historica)\n",
            "(Riesgo ⟂ Genero, Evaluacion Sueldo | Edad, Monto del credito, Residencia, Nivel de ahorro, Proposito)\n",
            "(Riesgo ⟂ Genero, Evaluacion Sueldo | Edad, Monto del credito, Residencia, Evaluacion crediticia historica, Proposito)\n",
            "(Riesgo ⟂ Proposito, Genero, Evaluacion Sueldo, Residencia | Edad, Monto del credito, Duracion, Nivel de ahorro, Evaluacion crediticia historica)\n",
            "(Riesgo ⟂ Genero, Evaluacion Sueldo, Residencia | Edad, Monto del credito, Duracion, Nivel de ahorro, Proposito)\n",
            "(Riesgo ⟂ Genero, Evaluacion Sueldo, Residencia | Edad, Monto del credito, Duracion, Evaluacion crediticia historica, Proposito)\n",
            "(Riesgo ⟂ Genero, Evaluacion Sueldo, Residencia | Edad, Monto del credito, Nivel de ahorro, Evaluacion crediticia historica, Proposito)\n",
            "(Riesgo ⟂ Genero | Edad, Evaluacion Sueldo, Duracion, Residencia, Nivel de ahorro)\n",
            "(Riesgo ⟂ Genero | Edad, Evaluacion Sueldo, Duracion, Residencia, Evaluacion crediticia historica)\n",
            "(Riesgo ⟂ Genero | Edad, Evaluacion Sueldo, Duracion, Residencia, Proposito)\n",
            "(Riesgo ⟂ Genero | Edad, Evaluacion Sueldo, Residencia, Nivel de ahorro, Evaluacion crediticia historica)\n",
            "(Riesgo ⟂ Genero | Edad, Evaluacion Sueldo, Residencia, Nivel de ahorro, Proposito)\n",
            "(Riesgo ⟂ Genero | Edad, Evaluacion Sueldo, Residencia, Evaluacion crediticia historica, Proposito)\n",
            "(Riesgo ⟂ Genero | Edad, Duracion, Residencia, Nivel de ahorro, Evaluacion crediticia historica)\n",
            "(Riesgo ⟂ Genero | Edad, Duracion, Residencia, Nivel de ahorro, Proposito)\n",
            "(Riesgo ⟂ Genero | Edad, Duracion, Residencia, Evaluacion crediticia historica, Proposito)\n",
            "(Riesgo ⟂ Genero | Edad, Residencia, Nivel de ahorro, Evaluacion crediticia historica, Proposito)\n",
            "(Riesgo ⟂ Edad, Proposito | Monto del credito, Genero, Evaluacion Sueldo, Duracion, Residencia)\n",
            "(Riesgo ⟂ Edad, Proposito | Monto del credito, Genero, Evaluacion Sueldo, Residencia, Nivel de ahorro)\n",
            "(Riesgo ⟂ Edad, Proposito | Monto del credito, Genero, Evaluacion Sueldo, Residencia, Evaluacion crediticia historica)\n",
            "(Riesgo ⟂ Edad | Monto del credito, Genero, Evaluacion Sueldo, Residencia, Proposito)\n",
            "(Riesgo ⟂ Edad, Residencia, Proposito | Monto del credito, Genero, Evaluacion Sueldo, Duracion, Nivel de ahorro)\n",
            "(Riesgo ⟂ Edad, Residencia, Proposito | Monto del credito, Genero, Evaluacion Sueldo, Duracion, Evaluacion crediticia historica)\n",
            "(Riesgo ⟂ Edad, Residencia | Monto del credito, Genero, Evaluacion Sueldo, Duracion, Proposito)\n",
            "(Riesgo ⟂ Edad, Residencia, Proposito | Monto del credito, Genero, Evaluacion Sueldo, Nivel de ahorro, Evaluacion crediticia historica)\n",
            "(Riesgo ⟂ Edad, Residencia | Monto del credito, Genero, Evaluacion Sueldo, Nivel de ahorro, Proposito)\n",
            "(Riesgo ⟂ Edad, Residencia | Monto del credito, Genero, Evaluacion Sueldo, Evaluacion crediticia historica, Proposito)\n",
            "(Riesgo ⟂ Edad, Evaluacion Sueldo, Proposito | Monto del credito, Genero, Duracion, Residencia, Nivel de ahorro)\n",
            "(Riesgo ⟂ Edad, Evaluacion Sueldo, Proposito | Monto del credito, Genero, Duracion, Residencia, Evaluacion crediticia historica)\n",
            "(Riesgo ⟂ Edad, Evaluacion Sueldo | Monto del credito, Genero, Duracion, Residencia, Proposito)\n",
            "(Riesgo ⟂ Edad, Evaluacion Sueldo, Proposito | Monto del credito, Genero, Residencia, Nivel de ahorro, Evaluacion crediticia historica)\n",
            "(Riesgo ⟂ Edad, Evaluacion Sueldo | Monto del credito, Genero, Residencia, Nivel de ahorro, Proposito)\n",
            "(Riesgo ⟂ Edad, Evaluacion Sueldo | Monto del credito, Genero, Residencia, Evaluacion crediticia historica, Proposito)\n",
            "(Riesgo ⟂ Edad, Residencia, Evaluacion Sueldo, Proposito | Monto del credito, Genero, Duracion, Nivel de ahorro, Evaluacion crediticia historica)\n",
            "(Riesgo ⟂ Edad, Evaluacion Sueldo, Residencia | Monto del credito, Genero, Duracion, Nivel de ahorro, Proposito)\n",
            "(Riesgo ⟂ Edad, Evaluacion Sueldo, Residencia | Monto del credito, Genero, Duracion, Evaluacion crediticia historica, Proposito)\n",
            "(Riesgo ⟂ Edad, Evaluacion Sueldo, Residencia | Monto del credito, Genero, Nivel de ahorro, Evaluacion crediticia historica, Proposito)\n",
            "(Riesgo ⟂ Edad, Genero, Proposito | Monto del credito, Evaluacion Sueldo, Duracion, Residencia, Nivel de ahorro)\n",
            "(Riesgo ⟂ Edad, Genero, Proposito | Monto del credito, Evaluacion Sueldo, Duracion, Residencia, Evaluacion crediticia historica)\n",
            "(Riesgo ⟂ Edad, Genero | Monto del credito, Evaluacion Sueldo, Duracion, Residencia, Proposito)\n",
            "(Riesgo ⟂ Edad, Genero, Proposito | Monto del credito, Evaluacion Sueldo, Residencia, Nivel de ahorro, Evaluacion crediticia historica)\n",
            "(Riesgo ⟂ Edad, Genero | Monto del credito, Evaluacion Sueldo, Residencia, Nivel de ahorro, Proposito)\n",
            "(Riesgo ⟂ Edad, Genero | Monto del credito, Evaluacion Sueldo, Residencia, Evaluacion crediticia historica, Proposito)\n",
            "(Riesgo ⟂ Edad, Genero, Residencia, Proposito | Monto del credito, Evaluacion Sueldo, Duracion, Nivel de ahorro, Evaluacion crediticia historica)\n",
            "(Riesgo ⟂ Edad, Genero, Residencia | Monto del credito, Evaluacion Sueldo, Duracion, Nivel de ahorro, Proposito)\n",
            "(Riesgo ⟂ Edad, Genero, Residencia | Monto del credito, Evaluacion Sueldo, Duracion, Evaluacion crediticia historica, Proposito)\n",
            "(Riesgo ⟂ Edad, Genero, Residencia | Monto del credito, Evaluacion Sueldo, Nivel de ahorro, Evaluacion crediticia historica, Proposito)\n",
            "(Riesgo ⟂ Edad, Genero, Evaluacion Sueldo, Proposito | Monto del credito, Duracion, Residencia, Nivel de ahorro, Evaluacion crediticia historica)\n",
            "(Riesgo ⟂ Edad, Genero, Evaluacion Sueldo | Monto del credito, Duracion, Residencia, Nivel de ahorro, Proposito)\n",
            "(Riesgo ⟂ Edad, Genero, Evaluacion Sueldo | Monto del credito, Duracion, Residencia, Evaluacion crediticia historica, Proposito)\n",
            "(Riesgo ⟂ Edad, Genero, Evaluacion Sueldo | Monto del credito, Residencia, Nivel de ahorro, Evaluacion crediticia historica, Proposito)\n",
            "(Riesgo ⟂ Edad, Genero, Evaluacion Sueldo, Residencia | Monto del credito, Duracion, Nivel de ahorro, Evaluacion crediticia historica, Proposito)\n",
            "(Riesgo ⟂ Edad | Genero, Evaluacion Sueldo, Duracion, Residencia, Nivel de ahorro)\n",
            "(Riesgo ⟂ Edad | Genero, Evaluacion Sueldo, Duracion, Residencia, Evaluacion crediticia historica)\n",
            "(Riesgo ⟂ Edad | Genero, Evaluacion Sueldo, Duracion, Residencia, Proposito)\n",
            "(Riesgo ⟂ Edad | Genero, Evaluacion Sueldo, Residencia, Nivel de ahorro, Evaluacion crediticia historica)\n",
            "(Riesgo ⟂ Edad | Genero, Evaluacion Sueldo, Residencia, Nivel de ahorro, Proposito)\n",
            "(Riesgo ⟂ Edad | Genero, Evaluacion Sueldo, Residencia, Evaluacion crediticia historica, Proposito)\n",
            "(Riesgo ⟂ Edad | Genero, Duracion, Residencia, Nivel de ahorro, Evaluacion crediticia historica)\n",
            "(Riesgo ⟂ Edad | Genero, Duracion, Residencia, Nivel de ahorro, Proposito)\n",
            "(Riesgo ⟂ Edad | Genero, Duracion, Residencia, Evaluacion crediticia historica, Proposito)\n",
            "(Riesgo ⟂ Edad | Genero, Residencia, Nivel de ahorro, Evaluacion crediticia historica, Proposito)\n",
            "(Riesgo ⟂ Edad, Genero | Evaluacion Sueldo, Duracion, Residencia, Nivel de ahorro, Evaluacion crediticia historica)\n",
            "(Riesgo ⟂ Edad, Genero | Evaluacion Sueldo, Duracion, Residencia, Nivel de ahorro, Proposito)\n",
            "(Riesgo ⟂ Edad, Genero | Evaluacion Sueldo, Duracion, Residencia, Evaluacion crediticia historica, Proposito)\n",
            "(Riesgo ⟂ Edad, Genero | Evaluacion Sueldo, Residencia, Nivel de ahorro, Evaluacion crediticia historica, Proposito)\n",
            "(Riesgo ⟂ Edad, Genero | Duracion, Residencia, Nivel de ahorro, Evaluacion crediticia historica, Proposito)\n",
            "(Riesgo ⟂ Proposito | Edad, Monto del credito, Genero, Evaluacion Sueldo, Residencia, Duracion)\n",
            "(Riesgo ⟂ Proposito | Edad, Monto del credito, Genero, Evaluacion Sueldo, Residencia, Nivel de ahorro)\n",
            "(Riesgo ⟂ Proposito | Edad, Monto del credito, Genero, Evaluacion Sueldo, Residencia, Evaluacion crediticia historica)\n",
            "(Riesgo ⟂ Proposito, Residencia | Edad, Monto del credito, Genero, Evaluacion Sueldo, Duracion, Nivel de ahorro)\n",
            "(Riesgo ⟂ Proposito, Residencia | Edad, Monto del credito, Genero, Evaluacion Sueldo, Duracion, Evaluacion crediticia historica)\n",
            "(Riesgo ⟂ Residencia | Edad, Monto del credito, Genero, Evaluacion Sueldo, Duracion, Proposito)\n",
            "(Riesgo ⟂ Proposito, Residencia | Edad, Monto del credito, Genero, Evaluacion Sueldo, Nivel de ahorro, Evaluacion crediticia historica)\n",
            "(Riesgo ⟂ Residencia | Edad, Monto del credito, Genero, Evaluacion Sueldo, Nivel de ahorro, Proposito)\n",
            "(Riesgo ⟂ Residencia | Edad, Monto del credito, Genero, Evaluacion Sueldo, Evaluacion crediticia historica, Proposito)\n",
            "(Riesgo ⟂ Proposito, Evaluacion Sueldo | Edad, Monto del credito, Genero, Duracion, Residencia, Nivel de ahorro)\n",
            "(Riesgo ⟂ Proposito, Evaluacion Sueldo | Edad, Monto del credito, Genero, Duracion, Residencia, Evaluacion crediticia historica)\n",
            "(Riesgo ⟂ Evaluacion Sueldo | Edad, Monto del credito, Genero, Duracion, Residencia, Proposito)\n",
            "(Riesgo ⟂ Proposito, Evaluacion Sueldo | Edad, Monto del credito, Genero, Residencia, Nivel de ahorro, Evaluacion crediticia historica)\n",
            "(Riesgo ⟂ Evaluacion Sueldo | Edad, Monto del credito, Genero, Residencia, Nivel de ahorro, Proposito)\n",
            "(Riesgo ⟂ Evaluacion Sueldo | Edad, Monto del credito, Genero, Residencia, Evaluacion crediticia historica, Proposito)\n",
            "(Riesgo ⟂ Proposito, Evaluacion Sueldo, Residencia | Edad, Monto del credito, Genero, Duracion, Nivel de ahorro, Evaluacion crediticia historica)\n",
            "(Riesgo ⟂ Evaluacion Sueldo, Residencia | Edad, Monto del credito, Genero, Duracion, Nivel de ahorro, Proposito)\n",
            "(Riesgo ⟂ Evaluacion Sueldo, Residencia | Edad, Monto del credito, Genero, Duracion, Evaluacion crediticia historica, Proposito)\n",
            "(Riesgo ⟂ Evaluacion Sueldo, Residencia | Edad, Monto del credito, Genero, Nivel de ahorro, Evaluacion crediticia historica, Proposito)\n",
            "(Riesgo ⟂ Proposito, Genero | Edad, Monto del credito, Evaluacion Sueldo, Duracion, Residencia, Nivel de ahorro)\n",
            "(Riesgo ⟂ Proposito, Genero | Edad, Monto del credito, Evaluacion Sueldo, Duracion, Residencia, Evaluacion crediticia historica)\n",
            "(Riesgo ⟂ Genero | Edad, Monto del credito, Evaluacion Sueldo, Duracion, Residencia, Proposito)\n",
            "(Riesgo ⟂ Proposito, Genero | Edad, Monto del credito, Evaluacion Sueldo, Residencia, Nivel de ahorro, Evaluacion crediticia historica)\n",
            "(Riesgo ⟂ Genero | Edad, Monto del credito, Evaluacion Sueldo, Residencia, Nivel de ahorro, Proposito)\n",
            "(Riesgo ⟂ Genero | Edad, Monto del credito, Evaluacion Sueldo, Residencia, Evaluacion crediticia historica, Proposito)\n",
            "(Riesgo ⟂ Proposito, Genero, Residencia | Edad, Monto del credito, Evaluacion Sueldo, Duracion, Nivel de ahorro, Evaluacion crediticia historica)\n",
            "(Riesgo ⟂ Genero, Residencia | Edad, Monto del credito, Evaluacion Sueldo, Duracion, Nivel de ahorro, Proposito)\n",
            "(Riesgo ⟂ Genero, Residencia | Edad, Monto del credito, Evaluacion Sueldo, Duracion, Evaluacion crediticia historica, Proposito)\n",
            "(Riesgo ⟂ Genero, Residencia | Edad, Monto del credito, Evaluacion Sueldo, Nivel de ahorro, Evaluacion crediticia historica, Proposito)\n",
            "(Riesgo ⟂ Proposito, Genero, Evaluacion Sueldo | Edad, Monto del credito, Duracion, Residencia, Nivel de ahorro, Evaluacion crediticia historica)\n",
            "(Riesgo ⟂ Genero, Evaluacion Sueldo | Edad, Monto del credito, Duracion, Residencia, Nivel de ahorro, Proposito)\n",
            "(Riesgo ⟂ Genero, Evaluacion Sueldo | Edad, Monto del credito, Duracion, Residencia, Evaluacion crediticia historica, Proposito)\n",
            "(Riesgo ⟂ Genero, Evaluacion Sueldo | Edad, Monto del credito, Residencia, Nivel de ahorro, Evaluacion crediticia historica, Proposito)\n",
            "(Riesgo ⟂ Genero, Evaluacion Sueldo, Residencia | Edad, Monto del credito, Duracion, Nivel de ahorro, Evaluacion crediticia historica, Proposito)\n",
            "(Riesgo ⟂ Genero | Edad, Evaluacion Sueldo, Duracion, Residencia, Nivel de ahorro, Evaluacion crediticia historica)\n",
            "(Riesgo ⟂ Genero | Edad, Evaluacion Sueldo, Duracion, Residencia, Nivel de ahorro, Proposito)\n",
            "(Riesgo ⟂ Genero | Edad, Evaluacion Sueldo, Duracion, Residencia, Evaluacion crediticia historica, Proposito)\n",
            "(Riesgo ⟂ Genero | Edad, Evaluacion Sueldo, Residencia, Nivel de ahorro, Evaluacion crediticia historica, Proposito)\n",
            "(Riesgo ⟂ Genero | Edad, Duracion, Residencia, Nivel de ahorro, Evaluacion crediticia historica, Proposito)\n",
            "(Riesgo ⟂ Edad, Proposito | Monto del credito, Genero, Evaluacion Sueldo, Duracion, Residencia, Nivel de ahorro)\n",
            "(Riesgo ⟂ Edad, Proposito | Monto del credito, Genero, Evaluacion Sueldo, Duracion, Residencia, Evaluacion crediticia historica)\n",
            "(Riesgo ⟂ Edad | Monto del credito, Genero, Evaluacion Sueldo, Duracion, Residencia, Proposito)\n",
            "(Riesgo ⟂ Edad, Proposito | Monto del credito, Genero, Evaluacion Sueldo, Residencia, Nivel de ahorro, Evaluacion crediticia historica)\n",
            "(Riesgo ⟂ Edad | Monto del credito, Genero, Evaluacion Sueldo, Residencia, Nivel de ahorro, Proposito)\n",
            "(Riesgo ⟂ Edad | Monto del credito, Genero, Evaluacion Sueldo, Residencia, Evaluacion crediticia historica, Proposito)\n",
            "(Riesgo ⟂ Edad, Residencia, Proposito | Monto del credito, Genero, Evaluacion Sueldo, Duracion, Nivel de ahorro, Evaluacion crediticia historica)\n",
            "(Riesgo ⟂ Edad, Residencia | Monto del credito, Genero, Evaluacion Sueldo, Duracion, Nivel de ahorro, Proposito)\n",
            "(Riesgo ⟂ Edad, Residencia | Monto del credito, Genero, Evaluacion Sueldo, Duracion, Evaluacion crediticia historica, Proposito)\n",
            "(Riesgo ⟂ Edad, Residencia | Monto del credito, Genero, Evaluacion Sueldo, Nivel de ahorro, Evaluacion crediticia historica, Proposito)\n",
            "(Riesgo ⟂ Edad, Evaluacion Sueldo, Proposito | Monto del credito, Genero, Duracion, Residencia, Nivel de ahorro, Evaluacion crediticia historica)\n",
            "(Riesgo ⟂ Edad, Evaluacion Sueldo | Monto del credito, Genero, Duracion, Residencia, Nivel de ahorro, Proposito)\n",
            "(Riesgo ⟂ Edad, Evaluacion Sueldo | Monto del credito, Genero, Duracion, Residencia, Evaluacion crediticia historica, Proposito)\n",
            "(Riesgo ⟂ Edad, Evaluacion Sueldo | Monto del credito, Genero, Residencia, Nivel de ahorro, Evaluacion crediticia historica, Proposito)\n",
            "(Riesgo ⟂ Edad, Evaluacion Sueldo, Residencia | Monto del credito, Genero, Duracion, Nivel de ahorro, Evaluacion crediticia historica, Proposito)\n",
            "(Riesgo ⟂ Edad, Genero, Proposito | Monto del credito, Evaluacion Sueldo, Duracion, Residencia, Nivel de ahorro, Evaluacion crediticia historica)\n",
            "(Riesgo ⟂ Edad, Genero | Monto del credito, Evaluacion Sueldo, Duracion, Residencia, Nivel de ahorro, Proposito)\n",
            "(Riesgo ⟂ Edad, Genero | Monto del credito, Evaluacion Sueldo, Duracion, Residencia, Evaluacion crediticia historica, Proposito)\n",
            "(Riesgo ⟂ Edad, Genero | Monto del credito, Evaluacion Sueldo, Residencia, Nivel de ahorro, Evaluacion crediticia historica, Proposito)\n",
            "(Riesgo ⟂ Edad, Genero, Residencia | Monto del credito, Evaluacion Sueldo, Duracion, Nivel de ahorro, Evaluacion crediticia historica, Proposito)\n",
            "(Riesgo ⟂ Edad, Genero, Evaluacion Sueldo | Monto del credito, Duracion, Residencia, Nivel de ahorro, Evaluacion crediticia historica, Proposito)\n",
            "(Riesgo ⟂ Edad | Genero, Evaluacion Sueldo, Duracion, Residencia, Nivel de ahorro, Evaluacion crediticia historica)\n",
            "(Riesgo ⟂ Edad | Genero, Evaluacion Sueldo, Duracion, Residencia, Nivel de ahorro, Proposito)\n",
            "(Riesgo ⟂ Edad | Genero, Evaluacion Sueldo, Duracion, Residencia, Evaluacion crediticia historica, Proposito)\n",
            "(Riesgo ⟂ Edad | Genero, Evaluacion Sueldo, Residencia, Nivel de ahorro, Evaluacion crediticia historica, Proposito)\n",
            "(Riesgo ⟂ Edad | Genero, Duracion, Residencia, Nivel de ahorro, Evaluacion crediticia historica, Proposito)\n",
            "(Riesgo ⟂ Edad, Genero | Evaluacion Sueldo, Duracion, Residencia, Nivel de ahorro, Evaluacion crediticia historica, Proposito)\n",
            "(Riesgo ⟂ Proposito | Edad, Monto del credito, Genero, Evaluacion Sueldo, Residencia, Duracion, Nivel de ahorro)\n",
            "(Riesgo ⟂ Proposito | Edad, Monto del credito, Genero, Evaluacion Sueldo, Residencia, Duracion, Evaluacion crediticia historica)\n",
            "(Riesgo ⟂ Proposito | Edad, Monto del credito, Genero, Evaluacion Sueldo, Residencia, Nivel de ahorro, Evaluacion crediticia historica)\n",
            "(Riesgo ⟂ Proposito, Residencia | Edad, Monto del credito, Genero, Evaluacion Sueldo, Duracion, Nivel de ahorro, Evaluacion crediticia historica)\n",
            "(Riesgo ⟂ Residencia | Edad, Monto del credito, Genero, Evaluacion Sueldo, Duracion, Nivel de ahorro, Proposito)\n",
            "(Riesgo ⟂ Residencia | Edad, Monto del credito, Genero, Evaluacion Sueldo, Duracion, Evaluacion crediticia historica, Proposito)\n",
            "(Riesgo ⟂ Residencia | Edad, Monto del credito, Genero, Evaluacion Sueldo, Nivel de ahorro, Evaluacion crediticia historica, Proposito)\n",
            "(Riesgo ⟂ Proposito, Evaluacion Sueldo | Edad, Monto del credito, Genero, Duracion, Residencia, Nivel de ahorro, Evaluacion crediticia historica)\n",
            "(Riesgo ⟂ Evaluacion Sueldo | Edad, Monto del credito, Genero, Duracion, Residencia, Nivel de ahorro, Proposito)\n",
            "(Riesgo ⟂ Evaluacion Sueldo | Edad, Monto del credito, Genero, Duracion, Residencia, Evaluacion crediticia historica, Proposito)\n",
            "(Riesgo ⟂ Evaluacion Sueldo | Edad, Monto del credito, Genero, Residencia, Nivel de ahorro, Evaluacion crediticia historica, Proposito)\n",
            "(Riesgo ⟂ Evaluacion Sueldo, Residencia | Edad, Monto del credito, Genero, Duracion, Nivel de ahorro, Evaluacion crediticia historica, Proposito)\n",
            "(Riesgo ⟂ Proposito, Genero | Edad, Monto del credito, Evaluacion Sueldo, Duracion, Residencia, Nivel de ahorro, Evaluacion crediticia historica)\n",
            "(Riesgo ⟂ Genero | Edad, Monto del credito, Evaluacion Sueldo, Duracion, Residencia, Nivel de ahorro, Proposito)\n",
            "(Riesgo ⟂ Genero | Edad, Monto del credito, Evaluacion Sueldo, Duracion, Residencia, Evaluacion crediticia historica, Proposito)\n",
            "(Riesgo ⟂ Genero | Edad, Monto del credito, Evaluacion Sueldo, Residencia, Nivel de ahorro, Evaluacion crediticia historica, Proposito)\n",
            "(Riesgo ⟂ Genero, Residencia | Edad, Monto del credito, Evaluacion Sueldo, Duracion, Nivel de ahorro, Evaluacion crediticia historica, Proposito)\n",
            "(Riesgo ⟂ Genero, Evaluacion Sueldo | Edad, Monto del credito, Duracion, Residencia, Nivel de ahorro, Evaluacion crediticia historica, Proposito)\n",
            "(Riesgo ⟂ Genero | Edad, Evaluacion Sueldo, Duracion, Residencia, Nivel de ahorro, Evaluacion crediticia historica, Proposito)\n",
            "(Riesgo ⟂ Edad, Proposito | Monto del credito, Genero, Evaluacion Sueldo, Duracion, Residencia, Nivel de ahorro, Evaluacion crediticia historica)\n",
            "(Riesgo ⟂ Edad | Monto del credito, Genero, Evaluacion Sueldo, Duracion, Residencia, Nivel de ahorro, Proposito)\n",
            "(Riesgo ⟂ Edad | Monto del credito, Genero, Evaluacion Sueldo, Duracion, Residencia, Evaluacion crediticia historica, Proposito)\n",
            "(Riesgo ⟂ Edad | Monto del credito, Genero, Evaluacion Sueldo, Residencia, Nivel de ahorro, Evaluacion crediticia historica, Proposito)\n",
            "(Riesgo ⟂ Edad, Residencia | Monto del credito, Genero, Evaluacion Sueldo, Duracion, Nivel de ahorro, Evaluacion crediticia historica, Proposito)\n",
            "(Riesgo ⟂ Edad, Evaluacion Sueldo | Monto del credito, Genero, Duracion, Residencia, Nivel de ahorro, Evaluacion crediticia historica, Proposito)\n",
            "(Riesgo ⟂ Edad, Genero | Monto del credito, Evaluacion Sueldo, Duracion, Residencia, Nivel de ahorro, Evaluacion crediticia historica, Proposito)\n",
            "(Riesgo ⟂ Edad | Genero, Evaluacion Sueldo, Duracion, Residencia, Nivel de ahorro, Evaluacion crediticia historica, Proposito)\n",
            "(Riesgo ⟂ Proposito | Edad, Monto del credito, Genero, Evaluacion Sueldo, Residencia, Duracion, Nivel de ahorro, Evaluacion crediticia historica)\n",
            "(Riesgo ⟂ Residencia | Edad, Monto del credito, Genero, Evaluacion Sueldo, Duracion, Nivel de ahorro, Evaluacion crediticia historica, Proposito)\n",
            "(Riesgo ⟂ Evaluacion Sueldo | Edad, Monto del credito, Genero, Duracion, Residencia, Nivel de ahorro, Evaluacion crediticia historica, Proposito)\n",
            "(Riesgo ⟂ Genero | Edad, Monto del credito, Evaluacion Sueldo, Duracion, Residencia, Nivel de ahorro, Evaluacion crediticia historica, Proposito)\n",
            "(Riesgo ⟂ Edad | Monto del credito, Genero, Evaluacion Sueldo, Duracion, Residencia, Nivel de ahorro, Evaluacion crediticia historica, Proposito)\n",
            "\n",
            "El total de independencias markovianas globales de la variable Riesgo es: 344\n"
          ]
        }
      ],
      "source": [
        "# Obtenemos todas las independencias globales (todas las variables)\n",
        "bayesian_model.get_independencies().get_assertions()[0].get_assertion()\n",
        "total = 0\n",
        "for independencia in bayesian_model.get_independencies().get_assertions():\n",
        "    # Imprimimos solo las independencias de la variable Riesgo\n",
        "    if (next(iter(independencia.get_assertion()[0]))) == \"Riesgo\":\n",
        "        print(independencia)\n",
        "        total += 1\n",
        "print(\n",
        "    f\"\\nEl total de independencias markovianas globales de la variable Riesgo es: {total}\"\n",
        ")\n"
      ]
    },
    {
      "cell_type": "markdown",
      "metadata": {},
      "source": [
        "\n",
        "### Queries\n"
      ]
    },
    {
      "cell_type": "code",
      "execution_count": 10,
      "metadata": {},
      "outputs": [],
      "source": [
        "# Utilizamos el método de eliminación de variables para inferir las probabilidades solicitadas\n",
        "infer = VariableElimination(bayesian_model)\n"
      ]
    },
    {
      "cell_type": "markdown",
      "metadata": {},
      "source": [
        "\n",
        "#### 1) Given that we know the client&#39;s age is 21, what is the probability of high risk?\n"
      ]
    },
    {
      "cell_type": "code",
      "execution_count": 11,
      "metadata": {},
      "outputs": [
        {
          "name": "stderr",
          "output_type": "stream",
          "text": [
            "Finding Elimination Order: : 100%|█████████████████████████████████████████████████████| 8/8 [00:00<00:00, 1999.19it/s]\n",
            "Eliminating: Proposito: 100%|███████████████████████████████████████████████████████████| 8/8 [00:00<00:00, 105.24it/s]"
          ]
        },
        {
          "name": "stdout",
          "output_type": "stream",
          "text": [
            "\n",
            "La probabilidad de riesgo es: 0.3120818119920808\n",
            "\n"
          ]
        },
        {
          "name": "stderr",
          "output_type": "stream",
          "text": [
            "\n"
          ]
        }
      ],
      "source": [
        "print(\n",
        "    f'\\nLa probabilidad de riesgo es: {infer.query([\"Riesgo\"], evidence={\"Edad\":\"19 to 28\"}).get_value(Riesgo=\"bad\")}\\n'\n",
        ")\n"
      ]
    },
    {
      "cell_type": "markdown",
      "metadata": {},
      "source": [
        "\n",
        "#### 2) Conditional probability of risk given historical credit assessment.\n"
      ]
    },
    {
      "cell_type": "code",
      "execution_count": 12,
      "metadata": {},
      "outputs": [
        {
          "name": "stderr",
          "output_type": "stream",
          "text": [
            "Finding Elimination Order: : 100%|█████████████████████████████████████████████████████| 8/8 [00:00<00:00, 1332.42it/s]\n",
            "Eliminating: Proposito: 100%|███████████████████████████████████████████████████████████| 8/8 [00:00<00:00, 216.10it/s]\n",
            "Finding Elimination Order: : 100%|█████████████████████████████████████████████████████| 8/8 [00:00<00:00, 1997.53it/s]\n",
            "Eliminating: Proposito: 100%|███████████████████████████████████████████████████████████| 8/8 [00:00<00:00, 228.57it/s]\n",
            "Finding Elimination Order: : 100%|█████████████████████████████████████████████████████| 8/8 [00:00<00:00, 2644.58it/s]\n",
            "Eliminating: Proposito: 100%|███████████████████████████████████████████████████████████| 8/8 [00:00<00:00, 235.26it/s]\n",
            "Finding Elimination Order: : 100%|█████████████████████████████████████████████████████| 8/8 [00:00<00:00, 2666.01it/s]\n",
            "Eliminating: Proposito: 100%|███████████████████████████████████████████████████████████| 8/8 [00:00<00:00, 242.43it/s]\n",
            "Finding Elimination Order: : 100%|█████████████████████████████████████████████████████| 8/8 [00:00<00:00, 2665.80it/s]\n",
            "Eliminating: Proposito: 100%|███████████████████████████████████████████████████████████| 8/8 [00:00<00:00, 307.83it/s]\n"
          ]
        }
      ],
      "source": [
        "# Obtenemos todos los valores de probabilidad para riesgo alto y bajo dados los distintos posibles valores de evaluación crediticia histórica\n",
        "values = np.array([])\n",
        "for i in range(5):\n",
        "    consulta = infer.query([\"Riesgo\"], evidence={\"Evaluacion crediticia historica\": i})\n",
        "    values = np.append(values, consulta.get_value(Riesgo=\"bad\"))\n",
        "    values = np.append(values, consulta.get_value(Riesgo=\"good\"))\n",
        "values = values.reshape([5, 2])\n",
        "values = values.T\n"
      ]
    },
    {
      "cell_type": "code",
      "execution_count": 13,
      "metadata": {},
      "outputs": [
        {
          "data": {
            "text/html": [
              "<div>\n",
              "<style scoped>\n",
              "    .dataframe tbody tr th:only-of-type {\n",
              "        vertical-align: middle;\n",
              "    }\n",
              "\n",
              "    .dataframe tbody tr th {\n",
              "        vertical-align: top;\n",
              "    }\n",
              "\n",
              "    .dataframe thead th {\n",
              "        text-align: right;\n",
              "    }\n",
              "</style>\n",
              "<table border=\"1\" class=\"dataframe\">\n",
              "  <thead>\n",
              "    <tr style=\"text-align: right;\">\n",
              "      <th></th>\n",
              "      <th>ECH(0)</th>\n",
              "      <th>ECH(1)</th>\n",
              "      <th>ECH(2)</th>\n",
              "      <th>ECH(3)</th>\n",
              "      <th>ECH(4)</th>\n",
              "    </tr>\n",
              "  </thead>\n",
              "  <tbody>\n",
              "    <tr>\n",
              "      <th>Riesgo(bad)</th>\n",
              "      <td>0.645224</td>\n",
              "      <td>0.59626</td>\n",
              "      <td>0.326273</td>\n",
              "      <td>0.351309</td>\n",
              "      <td>0.187646</td>\n",
              "    </tr>\n",
              "    <tr>\n",
              "      <th>Riesgo(good)</th>\n",
              "      <td>0.354776</td>\n",
              "      <td>0.40374</td>\n",
              "      <td>0.673727</td>\n",
              "      <td>0.648691</td>\n",
              "      <td>0.812354</td>\n",
              "    </tr>\n",
              "  </tbody>\n",
              "</table>\n",
              "</div>"
            ],
            "text/plain": [
              "                ECH(0)   ECH(1)    ECH(2)    ECH(3)    ECH(4)\n",
              "Riesgo(bad)   0.645224  0.59626  0.326273  0.351309  0.187646\n",
              "Riesgo(good)  0.354776  0.40374  0.673727  0.648691  0.812354"
            ]
          },
          "execution_count": 13,
          "metadata": {},
          "output_type": "execute_result"
        }
      ],
      "source": [
        "# Cargamos los valores obtenidos en un dataframe para visualizar los resultados de forma clara\n",
        "prob_condicional_riesgo = pd.DataFrame(\n",
        "    values,\n",
        "    columns=[\"ECH(0)\", \"ECH(1)\", \"ECH(2)\", \"ECH(3)\", \"ECH(4)\"],\n",
        "    index=[\"Riesgo(bad)\", \"Riesgo(good)\"],\n",
        ")\n",
        "prob_condicional_riesgo.head()\n"
      ]
    },
    {
      "cell_type": "markdown",
      "metadata": {},
      "source": [
        "\n",
        "#### 3) Given that the loan has a duration of 3 years (36 months), what is the probability of high risk?\n"
      ]
    },
    {
      "cell_type": "code",
      "execution_count": 14,
      "metadata": {},
      "outputs": [
        {
          "name": "stderr",
          "output_type": "stream",
          "text": [
            "Finding Elimination Order: : 100%|█████████████████████████████████████████████████████| 8/8 [00:00<00:00, 2664.74it/s]\n",
            "Eliminating: Evaluacion crediticia historica: 100%|█████████████████████████████████████| 8/8 [00:00<00:00, 235.30it/s]"
          ]
        },
        {
          "name": "stdout",
          "output_type": "stream",
          "text": [
            "\n",
            "La probabilidad de riesgo es: 0.5221410511675085\n",
            "\n"
          ]
        },
        {
          "name": "stderr",
          "output_type": "stream",
          "text": [
            "\n"
          ]
        }
      ],
      "source": [
        "print(\n",
        "    f'\\nLa probabilidad de riesgo es: {infer.query([\"Riesgo\"], evidence={\"Duracion\":\"24 to 72\"}).get_value(Riesgo=\"bad\")}\\n'\n",
        ")\n"
      ]
    }
  ],
  "metadata": {
    "language_info": {
      "name": "python"
    }
  },
  "nbformat": 4,
  "nbformat_minor": 2
}
